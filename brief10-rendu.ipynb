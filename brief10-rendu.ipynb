{
 "cells": [
  {
   "cell_type": "markdown",
   "metadata": {},
   "source": [
    "# Brief 10 - Labyrinthe"
   ]
  },
  {
   "cell_type": "markdown",
   "metadata": {},
   "source": [
    "## Tracer du labyrinthe  \n",
    "On utilisera le code (en le modifiant pour extraire notamment un graphe sous forme de dictionnaire)  \n",
    "Source:  \n",
    "http://math.univ-lyon1.fr/irem/Formation_ISN/formation_parcours_graphes/profondeur/3_python2.html"
   ]
  },
  {
   "cell_type": "code",
   "execution_count": 1,
   "metadata": {
    "scrolled": true
   },
   "outputs": [
    {
     "data": {
      "image/png": "[encoded data removed]",
      "text/plain": [
       "<Figure size 720x720 with 1 Axes>"
      ]
     },
     "metadata": {},
     "output_type": "display_data"
    }
   ],
   "source": [
    "import random\n",
    "import matplotlib.pyplot as plt\n",
    "import numpy as np\n",
    "\n",
    "# Dimensions de la grille:\n",
    "LARGEUR = 5\n",
    "HAUTEUR = 5\n",
    "TAILLE_LARG= 2 * LARGEUR + 1\n",
    "TAILLE_HAUT= 2 * HAUTEUR + 1\n",
    "\n",
    "random.seed(4) # Graphe de référence\n",
    "\n",
    "class Maillon:\n",
    "\n",
    "    def __init__(self, valeur, suivant=None):\n",
    "        self.valeur = valeur\n",
    "        self.suivant = suivant\n",
    "\n",
    "\n",
    "\n",
    "class Pile:\n",
    "\n",
    "    def __init__(self):\n",
    "        self.taille = 0 # nombre d'assiettes dans la pile\n",
    "        self.sommet = None\n",
    "\n",
    "\n",
    "    def empiler(self, valeur):\n",
    "        self.sommet = Maillon(valeur, self.sommet)\n",
    "        self.taille += 1\n",
    "\n",
    "    def depiler(self):\n",
    "        if self.taille > 0:\n",
    "            valeur = self.sommet.valeur\n",
    "            self.sommet = self.sommet.suivant\n",
    "            self.taille -= 1\n",
    "            return valeur\n",
    "\n",
    "    def estVide(self):\n",
    "        return self.taille == 0\n",
    "\n",
    "\n",
    "    def lireSommet(self):\n",
    "        return self.sommet.valeur\n",
    "\n",
    "\n",
    "\n",
    "\n",
    "\n",
    "\n",
    "\n",
    "\n",
    "def voisinage(couple):\n",
    "    \"\"\"\n",
    "    Renvoie la liste des cellules voisines\n",
    "    de la cellule (ligne, colonne) = couple dans la grille.\n",
    "    \"\"\"\n",
    "    listeVoisins = []\n",
    "    i, j = couple[0], couple[1]\n",
    "\n",
    "    #print(f\"fct voisinage / avant boucle for: i: {i} j: {j} couple: {couple}\")\n",
    "\n",
    "    for d in (-1, 1):\n",
    "        if -1 < i+d < HAUTEUR: listeVoisins.append( (i+d, j) )\n",
    "        if   -1 < j+d < LARGEUR: listeVoisins.append( (i, j+d) )\n",
    "        \n",
    "        #print(f\"fct voisinage / boucle for: i: {i} j: {j} d: {d} i+d:{i+d} j+d:{j+d}\")\n",
    "\n",
    "    #print(f\"fct voisinage / aprés boucle for: i: {i} j: {j} listeVoisin: {listeVoisins}\\n\")\n",
    "    #dic[couple]= listeVoisins\n",
    "    \n",
    "    return listeVoisins\n",
    "\n",
    "\n",
    "\n",
    "\n",
    "def dfs(s) :\n",
    "    P = {s: None}\n",
    "    Q = Pile()\n",
    "    Q.empiler(s)\n",
    "    while not(Q.estVide()) :\n",
    "        u = Q.lireSommet()\n",
    "        R=[y for y in voisinage(u) if y not in P]\n",
    "        if R :\n",
    "            v=random.choice(R)\n",
    "            P[v]=u\n",
    "            Q.empiler(v)\n",
    "        else :\n",
    "            Q.depiler()\n",
    "    return P\n",
    "\n",
    "\n",
    "\n",
    "def dedale():\n",
    "    \"\"\"\n",
    "    Fonction dessinant le résultat \n",
    "    \"\"\"\n",
    "    labyrinthe = [ [0 for j in range(TAILLE_LARG)] for i in range(TAILLE_HAUT)]\n",
    "    parcours = dfs((0,0))\n",
    "\n",
    "    #print(f\"fct dedale: parcours: \\n {parcours}\")\n",
    "\n",
    "    for i,j in parcours:\n",
    "        labyrinthe[2*i+1][2*j+1] = 1\n",
    "        #arbre[(2*i+1,2*j+1)]= 'A'\n",
    "        if (i,j) !=  (0,0):\n",
    "            k,l = parcours[(i,j)]\n",
    "            labyrinthe[2*k+1][2*l+1] = 1\n",
    "            labyrinthe[i+k+1][j+l+1] = 1\n",
    "            #arbre[2*k+1,2*l+1]= 'B'\n",
    "            #arbre[i+k+1,j+l+1]= 'C'\n",
    "\n",
    "    labyrinthe[1][0] = 1\n",
    "    depart= (1,0)\n",
    "    labyrinthe[TAILLE_HAUT - 2][TAILLE_LARG - 1] = 1\n",
    "    arrive= (TAILLE_HAUT - 2,TAILLE_LARG - 1)\n",
    "    \n",
    "    return labyrinthe, depart, arrive\n",
    "\n",
    "def dessine(lab):\n",
    "    # le graphique:\n",
    "    plt.figure(figsize= (10,10))\n",
    "    plt.imshow(lab)\n",
    "\n",
    "    # on cache les graduations:\n",
    "    plt.xticks([])\n",
    "    plt.yticks([])\n",
    "\n",
    "    # on visualise le résultat:\n",
    "    #plt.show()\n",
    "    #print(lab)\n",
    "    noeud= []\n",
    "    for index, x in np.ndenumerate(lab):\n",
    "        #print(\"index: \",index[0], index[1], x)   \n",
    "        if x== 1: #labyrinthe[index[0], index[1]]\n",
    "            noeud.append((index[0], index[1]))   \n",
    "            #print(\"\\tnoeud !\",index[0], index[1])   \n",
    "\n",
    "    return noeud\n",
    "\n",
    "\n",
    "#dedale()\n",
    "\n",
    "#dic= {}\n",
    "#arbre= {}\n",
    "labyrinthe, depart_labyrinthe, arrive_labyrinthe= dedale()\n",
    "noeud_bourin= dessine(labyrinthe)\n"
   ]
  },
  {
   "cell_type": "code",
   "execution_count": 2,
   "metadata": {},
   "outputs": [
    {
     "name": "stdout",
     "output_type": "stream",
     "text": [
      "[(1, 0), (1, 1), (1, 3), (1, 4), (1, 5), (1, 6), (1, 7), (1, 9), (2, 1), (2, 3), (2, 7), (2, 9), (3, 1), (3, 2), (3, 3), (3, 5), (3, 6), (3, 7), (3, 9), (4, 5), (4, 9), (5, 1), (5, 3), (5, 4), (5, 5), (5, 7), (5, 8), (5, 9), (6, 1), (6, 3), (6, 7), (6, 9), (7, 1), (7, 3), (7, 4), (7, 5), (7, 6), (7, 7), (7, 9), (8, 1), (8, 9), (9, 1), (9, 2), (9, 3), (9, 4), (9, 5), (9, 6), (9, 7), (9, 8), (9, 9), (9, 10)]\n"
     ]
    },
    {
     "data": {
      "text/plain": [
       "((1, 0), (9, 10))"
      ]
     },
     "execution_count": 2,
     "metadata": {},
     "output_type": "execute_result"
    }
   ],
   "source": [
    "print(noeud_bourin)\n",
    "depart_labyrinthe, arrive_labyrinthe"
   ]
  },
  {
   "cell_type": "code",
   "execution_count": 3,
   "metadata": {},
   "outputs": [
    {
     "name": "stdout",
     "output_type": "stream",
     "text": [
      "(1, 0) {(1, 1): 1}\n",
      "(1, 1) {(1, 0): 1, (2, 1): 1}\n",
      "(1, 3) {(2, 3): 1, (1, 4): 1}\n",
      "(1, 4) {(1, 3): 1, (1, 5): 1}\n",
      "(1, 5) {(1, 4): 1, (1, 6): 1}\n",
      "(1, 6) {(1, 5): 1, (1, 7): 1}\n",
      "(1, 7) {(1, 6): 1, (2, 7): 1}\n",
      "(1, 9) {(2, 9): 1}\n",
      "(2, 1) {(1, 1): 1, (3, 1): 1}\n",
      "(2, 3) {(1, 3): 1, (3, 3): 1}\n",
      "(2, 7) {(1, 7): 1, (3, 7): 1}\n",
      "(2, 9) {(1, 9): 1, (3, 9): 1}\n",
      "(3, 1) {(2, 1): 1, (3, 2): 1}\n",
      "(3, 2) {(3, 1): 1, (3, 3): 1}\n",
      "(3, 3) {(2, 3): 1, (3, 2): 1}\n",
      "(3, 5) {(4, 5): 1, (3, 6): 1}\n",
      "(3, 6) {(3, 5): 1, (3, 7): 1}\n",
      "(3, 7) {(2, 7): 1, (3, 6): 1}\n",
      "(3, 9) {(2, 9): 1, (4, 9): 1}\n",
      "(4, 5) {(3, 5): 1, (5, 5): 1}\n",
      "(4, 9) {(3, 9): 1, (5, 9): 1}\n",
      "(5, 1) {(6, 1): 1}\n",
      "(5, 3) {(6, 3): 1, (5, 4): 1}\n",
      "(5, 4) {(5, 3): 1, (5, 5): 1}\n",
      "(5, 5) {(4, 5): 1, (5, 4): 1}\n",
      "(5, 7) {(6, 7): 1, (5, 8): 1}\n",
      "(5, 8) {(5, 7): 1, (5, 9): 1}\n",
      "(5, 9) {(4, 9): 1, (5, 8): 1, (6, 9): 1}\n",
      "(6, 1) {(5, 1): 1, (7, 1): 1}\n",
      "(6, 3) {(5, 3): 1, (7, 3): 1}\n",
      "(6, 7) {(5, 7): 1, (7, 7): 1}\n",
      "(6, 9) {(5, 9): 1, (7, 9): 1}\n",
      "(7, 1) {(6, 1): 1, (8, 1): 1}\n",
      "(7, 3) {(6, 3): 1, (7, 4): 1}\n",
      "(7, 4) {(7, 3): 1, (7, 5): 1}\n",
      "(7, 5) {(7, 4): 1, (7, 6): 1}\n",
      "(7, 6) {(7, 5): 1, (7, 7): 1}\n",
      "(7, 7) {(6, 7): 1, (7, 6): 1}\n",
      "(7, 9) {(6, 9): 1, (8, 9): 1}\n",
      "(8, 1) {(7, 1): 1, (9, 1): 1}\n",
      "(8, 9) {(7, 9): 1, (9, 9): 1}\n",
      "(9, 1) {(8, 1): 1, (9, 2): 1}\n",
      "(9, 2) {(9, 1): 1, (9, 3): 1}\n",
      "(9, 3) {(9, 2): 1, (9, 4): 1}\n",
      "(9, 4) {(9, 3): 1, (9, 5): 1}\n",
      "(9, 5) {(9, 4): 1, (9, 6): 1}\n",
      "(9, 6) {(9, 5): 1, (9, 7): 1}\n",
      "(9, 7) {(9, 6): 1, (9, 8): 1}\n",
      "(9, 8) {(9, 7): 1, (9, 9): 1}\n",
      "(9, 9) {(8, 9): 1, (9, 8): 1, (9, 10): 1}\n",
      "(9, 10) {(9, 9): 1}\n"
     ]
    }
   ],
   "source": [
    "def construit_dictionnaire(nd):\n",
    "    dic= {} # dictionnaire de liste sans le poids\n",
    "    dic2= {} # dictionnaire de dictionnaire avec poids\n",
    "    \n",
    "    for n in nd:\n",
    "        # On recherchera les voisins du noeud n disponible (Il y a 4 voisins sauf sur les bords )\n",
    "        # \n",
    "        voisins=[]\n",
    "        voisdic={}\n",
    "        lig= n[0]\n",
    "        col= n[1]\n",
    "        for d in (-1, 1):\n",
    "            #print(d,lig,col,lig+d,col+d)\n",
    "            if -1 < lig+d < TAILLE_HAUT:\n",
    "                #print(f\"if 1: n: {n} d: {d}, lig: {lig}, col: {col}, lig+d: {lig+d}, col: {col}\")\n",
    "                if (lig+d, col) in nd:\n",
    "                    #print(f\"(lig+d, col): {lig+d} {col} bingo\")\n",
    "                    voisins.append( (lig+d, col) )\n",
    "                    voisdic[(lig+d, col)]= 1\n",
    "            if  -1 < col+d < TAILLE_LARG:\n",
    "                #print(f\"if 2: n: {n} d: {d}, lig: {lig}, col: {col}, lig+d: {lig+d}, col: {col}\")\n",
    "                if (lig, col+d) in nd:\n",
    "                    #print(f\"(lig, col+d): {lig} {col+d} bingo 2\")\n",
    "                    voisins.append( (lig, col+d) )\n",
    "                    voisdic[(lig, col+d)]= 1\n",
    "        #print(n[0], n[1], voisins)\n",
    "        dic[n]= voisins\n",
    "        dic2[n]= voisdic\n",
    "    return dic, dic2\n",
    "\n",
    "dic, dic2= construit_dictionnaire(noeud_bourin)\n",
    "\n",
    "\"\"\"\n",
    "for k, v in dic.items():\n",
    "    print(k,v)\n",
    "\"\"\"\n",
    "\n",
    "for k, v in dic2.items():\n",
    "    print(k,v)"
   ]
  },
  {
   "cell_type": "code",
   "execution_count": 5,
   "metadata": {},
   "outputs": [],
   "source": [
    "import networkx as nx\n",
    "import fctgraphes as fg\n",
    "\n"
   ]
  },
  {
   "cell_type": "code",
   "execution_count": 6,
   "metadata": {},
   "outputs": [
    {
     "name": "stdout",
     "output_type": "stream",
     "text": [
      "[(1, 0), (1, 1), (2, 1), (3, 1), (3, 2), (3, 3), (2, 3), (1, 3), (1, 4), (1, 5), (1, 6), (1, 7), (2, 7), (3, 7), (3, 6), (3, 5), (4, 5), (5, 5), (5, 4), (5, 3), (6, 3), (7, 3), (7, 4), (7, 5), (7, 6), (7, 7), (6, 7), (5, 7), (5, 8), (5, 9), (6, 9), (7, 9), (8, 9), (9, 9), (9, 10)]\n"
     ]
    }
   ],
   "source": [
    "\n",
    "\n",
    "g= nx.Graph()\n",
    "\n",
    "for i, j in dic2.items():\n",
    "    for k,v in j.items():\n",
    "        g.add_edge(i,k,weight= v)\n",
    "\n",
    "\n",
    "print(nx.shortest_path(g, depart_labyrinthe, arrive_labyrinthe))\n",
    "\n",
    "\n",
    "\n",
    "\n",
    "\n",
    "\n"
   ]
  },
  {
   "cell_type": "code",
   "execution_count": 7,
   "metadata": {},
   "outputs": [
    {
     "data": {
      "image/png": "[encoded data removed]",
      "text/plain": [
       "<Figure size 720x360 with 1 Axes>"
      ]
     },
     "metadata": {},
     "output_type": "display_data"
    }
   ],
   "source": [
    "#-----------------------------------------------------------------------------\n",
    "#                                  Main\n",
    "#-----------------------------------------------------------------------------\n",
    "#print(\"test classe:\", GrapheJP.arc(graphe))\n",
    "\n",
    "gr= GrapheJP()\n",
    "#arc_du_graphe= gr.arc(graphe)\n",
    "#print(\"Main: Arcs du graphe: %s\" %arc_du_graphe)\n",
    "\n",
    "#print(gr.parcoursLargeur(graphe))\n",
    "\n",
    "gr.afficheGraphe(dic2)\n",
    "#gr.affiche(graphe)\n",
    "\n",
    "#gr.parcoursProfondeur(graphe)\n",
    "\n",
    "#print(GrapheJP.cheminement)\n",
    "\n",
    "   "
   ]
  },
  {
   "cell_type": "code",
   "execution_count": null,
   "metadata": {},
   "outputs": [],
   "source": []
  },
  {
   "cell_type": "code",
   "execution_count": null,
   "metadata": {},
   "outputs": [],
   "source": []
  },
  {
   "cell_type": "code",
   "execution_count": null,
   "metadata": {},
   "outputs": [],
   "source": []
  },
  {
   "cell_type": "code",
   "execution_count": 8,
   "metadata": {},
   "outputs": [
    {
     "name": "stdout",
     "output_type": "stream",
     "text": [
      "Plus court chemin du dictionnaire: \n",
      "{(1, 0): {(1, 1): 1}, (1, 1): {(1, 0): 1, (2, 1): 1}, (1, 3): {(2, 3): 1, (1, 4): 1}, (1, 4): {(1, 3): 1, (1, 5): 1}, (1, 5): {(1, 4): 1, (1, 6): 1}, (1, 6): {(1, 5): 1, (1, 7): 1}, (1, 7): {(1, 6): 1, (2, 7): 1}, (1, 9): {(2, 9): 1}, (2, 1): {(1, 1): 1, (3, 1): 1}, (2, 3): {(1, 3): 1, (3, 3): 1}, (2, 7): {(1, 7): 1, (3, 7): 1}, (2, 9): {(1, 9): 1, (3, 9): 1}, (3, 1): {(2, 1): 1, (3, 2): 1}, (3, 2): {(3, 1): 1, (3, 3): 1}, (3, 3): {(2, 3): 1, (3, 2): 1}, (3, 5): {(4, 5): 1, (3, 6): 1}, (3, 6): {(3, 5): 1, (3, 7): 1}, (3, 7): {(2, 7): 1, (3, 6): 1}, (3, 9): {(2, 9): 1, (4, 9): 1}, (4, 5): {(3, 5): 1, (5, 5): 1}, (4, 9): {(3, 9): 1, (5, 9): 1}, (5, 1): {(6, 1): 1}, (5, 3): {(6, 3): 1, (5, 4): 1}, (5, 4): {(5, 3): 1, (5, 5): 1}, (5, 5): {(4, 5): 1, (5, 4): 1}, (5, 7): {(6, 7): 1, (5, 8): 1}, (5, 8): {(5, 7): 1, (5, 9): 1}, (5, 9): {(4, 9): 1, (5, 8): 1, (6, 9): 1}, (6, 1): {(5, 1): 1, (7, 1): 1}, (6, 3): {(5, 3): 1, (7, 3): 1}, (6, 7): {(5, 7): 1, (7, 7): 1}, (6, 9): {(5, 9): 1, (7, 9): 1}, (7, 1): {(6, 1): 1, (8, 1): 1}, (7, 3): {(6, 3): 1, (7, 4): 1}, (7, 4): {(7, 3): 1, (7, 5): 1}, (7, 5): {(7, 4): 1, (7, 6): 1}, (7, 6): {(7, 5): 1, (7, 7): 1}, (7, 7): {(6, 7): 1, (7, 6): 1}, (7, 9): {(6, 9): 1, (8, 9): 1}, (8, 1): {(7, 1): 1, (9, 1): 1}, (8, 9): {(7, 9): 1, (9, 9): 1}, (9, 1): {(8, 1): 1, (9, 2): 1}, (9, 2): {(9, 1): 1, (9, 3): 1}, (9, 3): {(9, 2): 1, (9, 4): 1}, (9, 4): {(9, 3): 1, (9, 5): 1}, (9, 5): {(9, 4): 1, (9, 6): 1}, (9, 6): {(9, 5): 1, (9, 7): 1}, (9, 7): {(9, 6): 1, (9, 8): 1}, (9, 8): {(9, 7): 1, (9, 9): 1}, (9, 9): {(8, 9): 1, (9, 8): 1, (9, 10): 1}, (9, 10): {(9, 9): 1}}:\n",
      "\n",
      "Est le chemin : \n",
      "[(1, 0), (1, 1), (2, 1), (3, 1), (3, 2), (3, 3), (2, 3), (1, 3), (1, 4), (1, 5), (1, 6), (1, 7), (2, 7), (3, 7), (3, 6), (3, 5), (4, 5), (5, 5), (5, 4), (5, 3), (6, 3), (7, 3), (7, 4), (7, 5), (7, 6), (7, 7), (6, 7), (5, 7), (5, 8), (5, 9), (6, 9), (7, 9), (8, 9), (9, 9), (9, 10)]\n",
      "\n",
      "De longueur : 34\n"
     ]
    }
   ],
   "source": [
    "\n",
    "#import fctgraphes as f\n",
    "#from fctgraphes import dij_rec\n",
    "\n",
    "#from fctgraphes import dij_rec\n",
    "\n",
    "l,c = fg.dij_rec(dic2,depart_labyrinthe,arrive_labyrinthe)\n",
    "print(f'Plus court chemin du dictionnaire: \\n{dic2}:\\n\\nEst le chemin : \\n{c}\\n\\nDe longueur : {l}')\n",
    "\n"
   ]
  },
  {
   "cell_type": "code",
   "execution_count": 10,
   "metadata": {},
   "outputs": [
    {
     "name": "stdout",
     "output_type": "stream",
     "text": [
      "tutu\n"
     ]
    }
   ],
   "source": [
    "#from fctgraphes import dij_rec\n",
    "a= fg.titi()\n",
    "a.toto()"
   ]
  },
  {
   "cell_type": "code",
   "execution_count": null,
   "metadata": {},
   "outputs": [],
   "source": []
  },
  {
   "cell_type": "code",
   "execution_count": null,
   "metadata": {},
   "outputs": [],
   "source": []
  },
  {
   "cell_type": "code",
   "execution_count": null,
   "metadata": {},
   "outputs": [],
   "source": []
  }
 ],
 "metadata": {
  "kernelspec": {
   "display_name": "Python 3",
   "language": "python",
   "name": "python3"
  },
  "language_info": {
   "codemirror_mode": {
    "name": "ipython",
    "version": 3
   },
   "file_extension": ".py",
   "mimetype": "text/x-python",
   "name": "python",
   "nbconvert_exporter": "python",
   "pygments_lexer": "ipython3",
   "version": "3.8.5"
  }
 },
 "nbformat": 4,
 "nbformat_minor": 4
}
